{
 "cells": [
  {
   "cell_type": "code",
   "execution_count": 4,
   "metadata": {},
   "outputs": [],
   "source": [
    "from main import main"
   ]
  },
  {
   "cell_type": "code",
   "execution_count": null,
   "metadata": {},
   "outputs": [],
   "source": [
    "BOOK_METADATA = {\n",
    "    'title': \"The Two Towers\",\n",
    "    'album': \"The Lord of the Rings\",\n",
    "    'artist': \"J. R. R. Tolkien\",\n",
    "    'genre': \"Audiobook\",\n",
    "    'date': \"1954\",\n",
    "    'track': \"1\",\n",
    "    'disc': \"2\",\n",
    "    'disctotal': \"3\",\n",
    "    'language': 'eng',\n",
    "    'comment': None,\n",
    "}"
   ]
  },
  {
   "cell_type": "code",
   "execution_count": null,
   "metadata": {},
   "outputs": [],
   "source": [
    "main(BOOK_METADATA)"
   ]
  }
 ],
 "metadata": {
  "kernelspec": {
   "display_name": ".venv",
   "language": "python",
   "name": "python3"
  },
  "language_info": {
   "codemirror_mode": {
    "name": "ipython",
    "version": 3
   },
   "file_extension": ".py",
   "mimetype": "text/x-python",
   "name": "python",
   "nbconvert_exporter": "python",
   "pygments_lexer": "ipython3",
   "version": "3.10.12"
  }
 },
 "nbformat": 4,
 "nbformat_minor": 2
}
